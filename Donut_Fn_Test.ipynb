{
 "cells": [
  {
   "cell_type": "code",
   "execution_count": null,
   "id": "6d94259d",
   "metadata": {},
   "outputs": [],
   "source": [
    "import pandas as pd\n",
    "import donutchart as do"
   ]
  },
  {
   "cell_type": "code",
   "execution_count": null,
   "id": "4e46d72d",
   "metadata": {},
   "outputs": [],
   "source": [
    "data = pd.read_csv('./Data/penguins.csv')\n",
    "data.head()"
   ]
  },
  {
   "cell_type": "code",
   "execution_count": null,
   "id": "7ca60cf3",
   "metadata": {},
   "outputs": [],
   "source": [
    "do.donut(data.island, 'Distribution of the Island')"
   ]
  },
  {
   "cell_type": "code",
   "execution_count": null,
   "id": "5ba9ec0e",
   "metadata": {},
   "outputs": [],
   "source": [
    "do.donut(data.sex, 'Sex of the Penguins', hole=0.6, legend=False)"
   ]
  }
 ],
 "metadata": {
  "kernelspec": {
   "display_name": "Python 3 (ipykernel)",
   "language": "python",
   "name": "python3"
  },
  "language_info": {
   "codemirror_mode": {
    "name": "ipython",
    "version": 3
   },
   "file_extension": ".py",
   "mimetype": "text/x-python",
   "name": "python",
   "nbconvert_exporter": "python",
   "pygments_lexer": "ipython3",
   "version": "3.10.10"
  }
 },
 "nbformat": 4,
 "nbformat_minor": 5
}
