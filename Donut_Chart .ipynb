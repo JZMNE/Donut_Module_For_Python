{
 "cells": [
  {
   "cell_type": "markdown",
   "id": "1cb4ad10",
   "metadata": {},
   "source": [
    "### Import the Libraries"
   ]
  },
  {
   "cell_type": "code",
   "execution_count": null,
   "id": "d72b64dc",
   "metadata": {},
   "outputs": [],
   "source": [
    "# Mathematical/Manipulation Libraries\n",
    "import pandas as pd\n",
    "import numpy as np\n",
    "\n",
    "# Visualization Library\n",
    "import plotly.graph_objects as go"
   ]
  },
  {
   "cell_type": "markdown",
   "id": "286be69c",
   "metadata": {},
   "source": [
    "### Import the Data"
   ]
  },
  {
   "cell_type": "code",
   "execution_count": null,
   "id": "33e0b0a4",
   "metadata": {},
   "outputs": [],
   "source": [
    "# Importing the data usign pandas\n",
    "data = pd.read_csv('./Data/penguins.csv')"
   ]
  },
  {
   "cell_type": "code",
   "execution_count": null,
   "id": "5839176c",
   "metadata": {
    "scrolled": true
   },
   "outputs": [],
   "source": [
    "# Initial data EDA\n",
    "print (f'The data has {data.shape[0]} records and {data.shape[1]} features.')\n",
    "data.head()"
   ]
  },
  {
   "cell_type": "markdown",
   "id": "7d749508",
   "metadata": {},
   "source": [
    "### Creating a donut in python for Data Peep"
   ]
  },
  {
   "cell_type": "code",
   "execution_count": null,
   "id": "6cbe2be0",
   "metadata": {},
   "outputs": [],
   "source": [
    "# convert the data to a dict and then a list \n",
    "df = data.species.value_counts().to_dict()\n",
    "new_df =  df.items()\n",
    "\n",
    "# Extracting the labels and Values\n",
    "labels = [i[0] for i in new_df]\n",
    "values = [i[1] for i in new_df ]\n",
    "print(f'The labels are:{labels}\\nThe values are {values}')\n"
   ]
  },
  {
   "cell_type": "code",
   "execution_count": null,
   "id": "74d90dad",
   "metadata": {},
   "outputs": [],
   "source": [
    "# Creating the percentage of each values\n",
    "total = np.sum(values)\n",
    "percentage = [f'{((i/total)*100):.2f}%' for i in values]\n",
    "print(f'The total is: {total}\\nThe percentages are {percentage} for {labels} respectively')"
   ]
  },
  {
   "cell_type": "code",
   "execution_count": null,
   "id": "fdf24c80",
   "metadata": {},
   "outputs": [],
   "source": [
    "# Creating a donut chart using Plotly\n",
    "fig = go.Figure(data=[go.Pie(labels=labels, values=values, hole=.5, showlegend=True, sort=True,\n",
    "                            hoverinfo='label+percent+value', direction='clockwise', textinfo='label+percent')])\n",
    "\n",
    "# Creating the chart type and legend\n",
    "fig.update_layout(title={'text': 'Species Group','x': 0.49,'y': 0.9,'xanchor': 'center', 'yanchor': 'top'},\n",
    "                legend={'x':0.9, 'y':0.65, 'xanchor':'right','yanchor':'top'})\n",
    "fig.show()"
   ]
  },
  {
   "cell_type": "code",
   "execution_count": null,
   "id": "46494dbb",
   "metadata": {},
   "outputs": [],
   "source": [
    "def donut(data, title, hole=0.5, legend=True):\n",
    "    \"\"\"\n",
    "    Create a donut chart in python for easy glance of the proportionality of the data features. \n",
    "    Warning: Do not use if the targeted columns has more than three categories in your data\n",
    "\n",
    "    Args:\n",
    "    data (panda Series): The data should be in a pandas series format.\n",
    "    title (str): This is the title of the dount chart\n",
    "    \n",
    "    Kwargs:\n",
    "    hole (float): The size of the hole in the middle of the donut chart.Ranges from 0 to 1. Default is 0.5\n",
    "    \n",
    "\n",
    "    Returns:\n",
    "    Diagram: A well designed and accepted donut even accepted by Pie chart Haters! :)\n",
    "    \"\"\"\n",
    "    # convert the data to a dict and then a list \n",
    "    df = data.value_counts().to_dict()\n",
    "    new_df =  df.items()\n",
    "    \n",
    "    # Extracting the labels and Values\n",
    "    labels = [i[0] for i in new_df]\n",
    "    values = [i[1] for i in new_df ]\n",
    "    \n",
    "    # Creating a donut chart using Plotly\n",
    "    fig = go.Figure(data=[go.Pie(labels=labels, values=values, hole=hole, showlegend=legend, sort=True,\n",
    "                            hoverinfo='label+percent+value', direction='clockwise', textinfo='label+percent')])\n",
    "    fig.update_layout(title={'text': title,'x': 0.49,'y': 0.9,'xanchor': 'center', 'yanchor': 'top'},\n",
    "                legend={'x':1.05, 'y':0.6, 'xanchor':'right','yanchor':'top'})\n",
    "    fig.show()"
   ]
  },
  {
   "cell_type": "code",
   "execution_count": null,
   "id": "8cc1f02e",
   "metadata": {},
   "outputs": [],
   "source": []
  }
 ],
 "metadata": {
  "kernelspec": {
   "display_name": "Python 3 (ipykernel)",
   "language": "python",
   "name": "python3"
  },
  "language_info": {
   "codemirror_mode": {
    "name": "ipython",
    "version": 3
   },
   "file_extension": ".py",
   "mimetype": "text/x-python",
   "name": "python",
   "nbconvert_exporter": "python",
   "pygments_lexer": "ipython3",
   "version": "3.10.10"
  }
 },
 "nbformat": 4,
 "nbformat_minor": 5
}
